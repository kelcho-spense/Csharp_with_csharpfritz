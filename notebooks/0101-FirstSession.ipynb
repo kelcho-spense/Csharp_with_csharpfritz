{
 "cells": [
  {
   "cell_type": "markdown",
   "metadata": {},
   "source": [
    "# Session 1: Types, Keywords, and Operators with C#  #\n",
    "\n",
    "In this first session, we're going to start learning about object-oriented programming with C#.  We'll touch on the very basics around variable types, language keywords, and how we can use operators to make variables work together for us.\n",
    "\n",
    "## Get C# to run locally   #\n",
    "\n",
    "You can get all of the tools to build with C# locally on your Mac or PC by installing [Visual Studio or Visual Studio for Mac](https://visualstudio.com?WT.mc_id=visualstudio-twitch-jefritz).  You can also install just the build tools for Windows, Mac, or Linux by following the instructions at [dot.net](https://dot.net?WT.mc_id=visualstudio-twitch-jefritz)  For most of our streams to start, we will be writing code using [Jupyter Notebooks and .NET Interactive](https://github.com/dotnet/interactive).\n",
    "\n",
    "## What is C# ?  #\n",
    "\n",
    "C# is a statically-typed, compiled, object-oriented language used with the .NET frameworks and runtimes.  The [official Microsoft C# language reference](https://docs.microsoft.com/dotnet/csharp/language-reference/?WT.mc_id=visualstudio-twitch-jefritz) can be found on docs.microsoft.com.  Similar to Java in syntax and structure, C# programs are compiled and executed against a .NET runtime running on a computer.  The output of compiling C# code can be called a '.NET program'.\n",
    "\n",
    "> A .NET Runtime is a collection of commands native to the computer operating system that instruct the computer how to interpret and run a .NET program. \n",
    "\n",
    "There are several different .NET runtimes available that give C# flexibility to run in many different locations.\n",
    "\n",
    " - .NET Framework - runs on Windows and support desktop user-interface, console, and server development\n",
    " - .NET Core - runs on Windows, Mac, and Linux with support for desktop user-interface, console, and server development\n",
    " - Xamarin - runs on iOS and Android devices with support for native application development on those devices\n",
    " - Unity - runs on Windows, Mac, Linux, iOS, and Android devices with support for game development using the Unity3D tools\n",
    " - Mono - runs on Windows, Mac, Linux, and Web Assembly\n",
    " \n",
    "> A .NET Framework is a collection of programming instructions and tools that help you write a program of a specific type.  Examples of .NET Frameworks include Windows Forms, ASP.NET, Xamarin iOS, and Blazor\n",
    " \n",
    "C# requires a .NET runtime and frameworks for the appropriate program type to run.  The definition of the framework and runtime for a C# program are stored in a `.csproj` file.  We'll learn more about this file and structure in a future lesson.  For now, know that the .NET tools will help construct and manage this file for you when you specify what type of program you want to create.\n",
    "\n",
    "All C# files carry a `.cs` file extension by default.\n",
    "\n",
    "## Syntax 101\n",
    "\n",
    "Here are the basics of C# code syntax that you should know as we get started.\n",
    "\n",
    "### C# uses a semi-colon to denote the end of a statement  #\n",
    "\n",
    "This is a hard and fast rule, and you'll get used to it quickly.  Every statement in C# needs to end with a semi-colon `;`  This allows us to also have very flexible spacing in how we structure our code.\n",
    "\n",
    "### C# is NOT space sensitive  #\n",
    "\n",
    "You can place as many spaces, tabs, or blank lines around your code as you would like.  \n",
    "\n",
    "### C# IS case sensitive   #\n",
    "\n",
    "C# is case-sensitive.  All variables, objects, and their interactions must be referenced with the proper casing.\n",
    "\n",
    "### Comment Syntax\n",
    "\n",
    "You can write comments by using the two forward-slash characters to indicate everything after them is a comment."
   ]
  },
  {
   "cell_type": "code",
   "execution_count": 5,
   "metadata": {
    "dotnet_interactive": {
     "language": "csharp"
    },
    "vscode": {
     "languageId": "dotnet-interactive.csharp"
    }
   },
   "outputs": [
    {
     "name": "stdout",
     "output_type": "stream",
     "text": [
      "// This is a comment sdfsdfsdf\r\n"
     ]
    }
   ],
   "source": [
    "// This is a comment\n",
    "Console.WriteLine(\"// This is a comment sdfsdfsdf\");"
   ]
  },
  {
   "cell_type": "markdown",
   "metadata": {},
   "source": [
    "You can create comments that span multiple lines by using slash asterisk fencing like the following:"
   ]
  },
  {
   "cell_type": "code",
   "execution_count": null,
   "metadata": {
    "dotnet_interactive": {
     "language": "csharp"
    },
    "vscode": {
     "languageId": "dotnet-interactive.csharp"
    }
   },
   "outputs": [],
   "source": [
    "/*\n",
    "This is a multi-line comment\n",
    "\n",
    "and this is still commented out\n",
    "*/"
   ]
  },
  {
   "cell_type": "markdown",
   "metadata": {},
   "source": [
    "## Everything in C# is an object   #\n",
    "\n",
    "As C# is an object oriented language, everything we want to work with is an object.  Objects can be declared of various **TYPES** and then interacted with.  The simplest types in C# are called [**Built-In Types**](https://docs.microsoft.com/dotnet/csharp/language-reference/builtin-types/built-in-types?WT.mc_id=visualstudio-twitch-jefritz)\n",
    "\n",
    "We can define variables, in-memory storage for a type by preceeding the name of the variable we would like to create with the type of the variable we are creating."
   ]
  },
  {
   "cell_type": "code",
   "execution_count": null,
   "metadata": {
    "dotnet_interactive": {
     "language": "csharp"
    },
    "vscode": {
     "languageId": "dotnet-interactive.csharp"
    }
   },
   "outputs": [
    {
     "data": {
      "text/html": [
       "<div class=\"dni-plaintext\">\u0000</div>"
      ]
     },
     "metadata": {},
     "output_type": "display_data"
    }
   ],
   "source": [
    "int i;\n",
    "                        double j;\n",
    "      char c;\n",
    "\n",
    "display(c);"
   ]
  },
  {
   "cell_type": "markdown",
   "metadata": {},
   "source": [
    "That's not very exciting, but we created a 32-bit integer named `i`.  We can initialize a variable with an `=` assignment at the time of declaration."
   ]
  },
  {
   "cell_type": "code",
   "execution_count": null,
   "metadata": {
    "dotnet_interactive": {
     "language": "csharp"
    },
    "vscode": {
     "languageId": "dotnet-interactive.csharp"
    }
   },
   "outputs": [
    {
     "data": {
      "text/html": [
       "<div class=\"dni-plaintext\">10</div>"
      ]
     },
     "metadata": {},
     "output_type": "display_data"
    }
   ],
   "source": [
    "int i = 10;\n",
    "\n",
    "display(i);"
   ]
  },
  {
   "cell_type": "markdown",
   "metadata": {},
   "source": [
    "### The var keyword\n",
    "\n",
    "Sometimes, its a little cumbersome to declare a variable, assign a value, and have to specify the type before it.  C# has built-in type inference and you can use the `var` keyword to force the compiler to detect the actual type being created  and set the variable to the type of the value being assigned."
   ]
  },
  {
   "cell_type": "code",
   "execution_count": null,
   "metadata": {
    "dotnet_interactive": {
     "language": "csharp"
    },
    "vscode": {
     "languageId": "dotnet-interactive.csharp"
    }
   },
   "outputs": [
    {
     "data": {
      "text/html": [
       "<div class=\"dni-plaintext\">9</div>"
      ]
     },
     "metadata": {},
     "output_type": "display_data"
    },
    {
     "data": {
      "text/html": [
       "<div class=\"dni-plaintext\">C</div>"
      ]
     },
     "metadata": {},
     "output_type": "display_data"
    }
   ],
   "source": [
    "var i                             = 10;\n",
    "var someReallyLongVariableName    = 9;\n",
    "var foo                           = \"Something\";\n",
    "\n",
    "display(someReallyLongVariableName);\n",
    "\n",
    "var c = 'C';\n",
    "display(c);"
   ]
  },
  {
   "cell_type": "markdown",
   "metadata": {},
   "source": [
    "You can **ONLY** use the `var` keyword when creating and assigning the variable in one statement."
   ]
  },
  {
   "cell_type": "markdown",
   "metadata": {
    "dotnet_interactive": {
     "language": "csharp"
    }
   },
   "source": [
    "### Target-Typed `new` expressions\n",
    "\n",
    "Starting with [C# 9 (.NET 5 and later)](https://docs.microsoft.com/en-us/dotnet/csharp/language-reference/proposals/csharp-9.0/target-typed-new), types can not be declared and constructed using the `new()` keyword without any specification for the constructor.  If the type can be inferred from it's usage, the `new()` keyword can be used.\n",
    "\n",
    "You can still use constructor arguments with `new()` to initialize the appropriate type."
   ]
  },
  {
   "cell_type": "code",
   "execution_count": null,
   "metadata": {
    "dotnet_interactive": {
     "language": "csharp"
    },
    "vscode": {
     "languageId": "dotnet-interactive.csharp"
    }
   },
   "outputs": [
    {
     "data": {
      "text/html": [
       "<table><thead><tr><th><i>index</i></th><th>value</th></tr></thead><tbody><tr><td>0</td><td>Hello</td></tr><tr><td>1</td><td>World</td></tr></tbody></table>"
      ]
     },
     "metadata": {},
     "output_type": "display_data"
    }
   ],
   "source": [
    "//List<string> testList = new();\n",
    "List<string> testList = new() { \"Hello\", \"World\" };\n",
    "\n",
    "display(testList);"
   ]
  },
  {
   "cell_type": "markdown",
   "metadata": {},
   "source": [
    "### Real Literals\n",
    "\n",
    "We can declare double, float, and decimal types with simple numeric notation, but we need to force the literal numbers we assign to be the correct type to match the variable type expected.\n",
    "\n",
    "To do this, we add a `d`, `f`, or `m` suffix to a number being assigned."
   ]
  },
  {
   "cell_type": "code",
   "execution_count": null,
   "metadata": {
    "dotnet_interactive": {
     "language": "csharp"
    },
    "vscode": {
     "languageId": "dotnet-interactive.csharp"
    }
   },
   "outputs": [
    {
     "data": {
      "text/html": [
       "<span><a href=\"https://docs.microsoft.com/dotnet/api/system.decimal?view=net-5.0\">System.Decimal</a></span>"
      ]
     },
     "metadata": {},
     "output_type": "display_data"
    }
   ],
   "source": [
    "var myNumber = 4m;\n",
    "myNumber.GetType()"
   ]
  },
  {
   "cell_type": "markdown",
   "metadata": {},
   "source": [
    "## Type Casting\n"
   ]
  },
  {
   "cell_type": "code",
   "execution_count": null,
   "metadata": {
    "dotnet_interactive": {
     "language": "csharp"
    },
    "vscode": {
     "languageId": "dotnet-interactive.csharp"
    }
   },
   "outputs": [
    {
     "data": {
      "text/html": [
       "<div class=\"dni-plaintext\">10</div>"
      ]
     },
     "metadata": {},
     "output_type": "display_data"
    },
    {
     "data": {
      "text/html": [
       "<span><a href=\"https://docs.microsoft.com/dotnet/api/system.decimal?view=net-5.0\">System.Decimal</a></span>"
      ]
     },
     "metadata": {},
     "output_type": "display_data"
    },
    {
     "data": {
      "text/html": [
       "<div class=\"dni-plaintext\">20</div>"
      ]
     },
     "metadata": {},
     "output_type": "display_data"
    }
   ],
   "source": [
    "int valueA = 10;\n",
    "decimal valueB = valueA; // Implicit conversion\n",
    "\n",
    "display(valueB);\n",
    "display(valueB.GetType());\n",
    "\n",
    "decimal valueC = 20;\n",
    "//int valueD = valueC;      // This errors out because int cannot be implicitly converted to by a decimal\n",
    "int valueD = (int)valueC;   // Explicitly convert valueC to int with the (int) modifier\n",
    "\n",
    "display(valueD);"
   ]
  },
  {
   "cell_type": "markdown",
   "metadata": {},
   "source": [
    "## Operators\n",
    "\n",
    "Now that we have some basic types and can create variables, it would sure be nice to have them interact with each other.  [Operators](https://docs.microsoft.com/dotnet/csharp/language-reference/operators/) can be used to interact with our variables.\n",
    "\n",
    "Let's start by declaring two variables, `apples` and `oranges` and interact with them using different operators.  Try changing some of the values and tinkering with the operators in the following code snippets."
   ]
  },
  {
   "cell_type": "code",
   "execution_count": null,
   "metadata": {
    "dotnet_interactive": {
     "language": "csharp"
    },
    "vscode": {
     "languageId": "dotnet-interactive.csharp"
    }
   },
   "outputs": [],
   "source": [
    "var apples = 100m;   // Decimal value\n",
    "var oranges = 30m;   // Decimal value"
   ]
  },
  {
   "cell_type": "markdown",
   "metadata": {},
   "source": [
    "Basic arithmetic operators and assignment are available:"
   ]
  },
  {
   "cell_type": "code",
   "execution_count": null,
   "metadata": {
    "dotnet_interactive": {
     "language": "csharp"
    },
    "vscode": {
     "languageId": "dotnet-interactive.csharp"
    }
   },
   "outputs": [
    {
     "data": {
      "text/html": [
       "<div class=\"dni-plaintext\">130</div>"
      ]
     },
     "metadata": {},
     "output_type": "display_data"
    }
   ],
   "source": [
    "display(apples + oranges);"
   ]
  },
  {
   "cell_type": "code",
   "execution_count": null,
   "metadata": {
    "dotnet_interactive": {
     "language": "csharp"
    },
    "vscode": {
     "languageId": "dotnet-interactive.csharp"
    }
   },
   "outputs": [
    {
     "data": {
      "text/html": [
       "<div class=\"dni-plaintext\">70</div>"
      ]
     },
     "metadata": {},
     "output_type": "display_data"
    }
   ],
   "source": [
    "display(apples - oranges);"
   ]
  },
  {
   "cell_type": "code",
   "execution_count": null,
   "metadata": {
    "dotnet_interactive": {
     "language": "csharp"
    },
    "vscode": {
     "languageId": "dotnet-interactive.csharp"
    }
   },
   "outputs": [
    {
     "data": {
      "text/html": [
       "<div class=\"dni-plaintext\">3000</div>"
      ]
     },
     "metadata": {},
     "output_type": "display_data"
    }
   ],
   "source": [
    "display(apples * oranges);"
   ]
  },
  {
   "cell_type": "code",
   "execution_count": null,
   "metadata": {
    "dotnet_interactive": {
     "language": "csharp"
    },
    "vscode": {
     "languageId": "dotnet-interactive.csharp"
    }
   },
   "outputs": [
    {
     "data": {
      "text/html": [
       "<div class=\"dni-plaintext\">47.571428571428571428571428571</div>"
      ]
     },
     "metadata": {},
     "output_type": "display_data"
    }
   ],
   "source": [
    "display((int)apples / 7m);"
   ]
  },
  {
   "cell_type": "markdown",
   "metadata": {},
   "source": [
    "You can use the equals character `=` to assign values, and prefix it with an arithmetic operator to modify and assign the resultant value."
   ]
  },
  {
   "cell_type": "code",
   "execution_count": null,
   "metadata": {
    "dotnet_interactive": {
     "language": "csharp"
    },
    "vscode": {
     "languageId": "dotnet-interactive.csharp"
    }
   },
   "outputs": [
    {
     "data": {
      "text/html": [
       "<div class=\"dni-plaintext\">110</div>"
      ]
     },
     "metadata": {},
     "output_type": "display_data"
    },
    {
     "data": {
      "text/html": [
       "<div class=\"dni-plaintext\">100</div>"
      ]
     },
     "metadata": {},
     "output_type": "display_data"
    },
    {
     "data": {
      "text/html": [
       "<div class=\"dni-plaintext\">1000</div>"
      ]
     },
     "metadata": {},
     "output_type": "display_data"
    },
    {
     "data": {
      "text/html": [
       "<div class=\"dni-plaintext\">333.33333333333333333333333333</div>"
      ]
     },
     "metadata": {},
     "output_type": "display_data"
    },
    {
     "data": {
      "text/html": [
       "<div class=\"dni-plaintext\">True</div>"
      ]
     },
     "metadata": {},
     "output_type": "display_data"
    }
   ],
   "source": [
    "display(apples += 10);\n",
    "\n",
    "display(apples -= 10);\n",
    "\n",
    "display(apples *= 10);\n",
    "\n",
    "display(apples /= 3m);\n",
    "\n",
    "display(30.0d == 30);"
   ]
  },
  {
   "cell_type": "markdown",
   "metadata": {},
   "source": [
    "C# makes the inequality operators available as well, and a test for equality using `==`"
   ]
  },
  {
   "cell_type": "code",
   "execution_count": null,
   "metadata": {
    "dotnet_interactive": {
     "language": "csharp"
    },
    "vscode": {
     "languageId": "dotnet-interactive.csharp"
    }
   },
   "outputs": [
    {
     "data": {
      "text/html": [
       "<div class=\"dni-plaintext\">True</div>"
      ]
     },
     "metadata": {},
     "output_type": "display_data"
    }
   ],
   "source": [
    "display(apples > oranges);"
   ]
  },
  {
   "cell_type": "code",
   "execution_count": null,
   "metadata": {
    "dotnet_interactive": {
     "language": "csharp"
    },
    "vscode": {
     "languageId": "dotnet-interactive.csharp"
    }
   },
   "outputs": [
    {
     "data": {
      "text/html": [
       "<div class=\"dni-plaintext\">True</div>"
      ]
     },
     "metadata": {},
     "output_type": "display_data"
    }
   ],
   "source": [
    "display(apples >= oranges);"
   ]
  },
  {
   "cell_type": "code",
   "execution_count": null,
   "metadata": {
    "dotnet_interactive": {
     "language": "csharp"
    },
    "vscode": {
     "languageId": "dotnet-interactive.csharp"
    }
   },
   "outputs": [
    {
     "data": {
      "text/html": [
       "<div class=\"dni-plaintext\">False</div>"
      ]
     },
     "metadata": {},
     "output_type": "display_data"
    }
   ],
   "source": [
    "display(apples < oranges);"
   ]
  },
  {
   "cell_type": "code",
   "execution_count": null,
   "metadata": {
    "dotnet_interactive": {
     "language": "csharp"
    },
    "vscode": {
     "languageId": "dotnet-interactive.csharp"
    }
   },
   "outputs": [
    {
     "data": {
      "text/html": [
       "<div class=\"dni-plaintext\">False</div>"
      ]
     },
     "metadata": {},
     "output_type": "display_data"
    }
   ],
   "source": [
    "display(apples <= oranges);"
   ]
  },
  {
   "cell_type": "code",
   "execution_count": null,
   "metadata": {
    "dotnet_interactive": {
     "language": "csharp"
    },
    "vscode": {
     "languageId": "dotnet-interactive.csharp"
    }
   },
   "outputs": [
    {
     "data": {
      "text/html": [
       "<div class=\"dni-plaintext\">False</div>"
      ]
     },
     "metadata": {},
     "output_type": "display_data"
    }
   ],
   "source": [
    "display(apples == oranges);"
   ]
  },
  {
   "cell_type": "code",
   "execution_count": null,
   "metadata": {
    "dotnet_interactive": {
     "language": "csharp"
    },
    "vscode": {
     "languageId": "dotnet-interactive.csharp"
    }
   },
   "outputs": [
    {
     "data": {
      "text/html": [
       "<div class=\"dni-plaintext\">True</div>"
      ]
     },
     "metadata": {},
     "output_type": "display_data"
    }
   ],
   "source": [
    "display(apples != oranges); // The not-equals operator"
   ]
  },
  {
   "cell_type": "markdown",
   "metadata": {},
   "source": [
    "## Date Types\n",
    "\n",
    "Dates are a more complex data type that you can interact with by using the `DateTime` type.  We can assign a new Date and time with a `new` statement to construct the DateTime type.  [Complete documentation of the DateTime type](https://docs.microsoft.com/dotnet/api/system.datetime?view=net-6.0&WT.mc_id=visualstudio-twitch-jefritz) is available at docs.microsoft.com"
   ]
  },
  {
   "cell_type": "code",
   "execution_count": null,
   "metadata": {
    "dotnet_interactive": {
     "language": "csharp"
    },
    "vscode": {
     "languageId": "dotnet-interactive.csharp"
    }
   },
   "outputs": [
    {
     "data": {
      "text/html": [
       "<span>2020-08-01 09:15:30Z</span>"
      ]
     },
     "metadata": {},
     "output_type": "display_data"
    },
    {
     "data": {
      "text/html": [
       "<div class=\"dni-plaintext\">9</div>"
      ]
     },
     "metadata": {},
     "output_type": "display_data"
    },
    {
     "data": {
      "text/html": [
       "<div class=\"dni-plaintext\">15</div>"
      ]
     },
     "metadata": {},
     "output_type": "display_data"
    },
    {
     "data": {
      "text/html": [
       "<div class=\"dni-plaintext\">30</div>"
      ]
     },
     "metadata": {},
     "output_type": "display_data"
    }
   ],
   "source": [
    "DateTime today = new DateTime(2020, 8, 1, 9, 15, 30);   // Create a date for August 1, 2020 at 9:00am\n",
    "\n",
    "display(today);\n",
    "display(today.Hour);  // We can reference parts of the DateTime as properties on the variable\n",
    "display(today.Minute);\n",
    "display(today.Second);"
   ]
  },
  {
   "cell_type": "markdown",
   "metadata": {},
   "source": [
    "There are several properties on the DateTime object that allow us to interact with the variable type itself:"
   ]
  },
  {
   "cell_type": "code",
   "execution_count": null,
   "metadata": {
    "dotnet_interactive": {
     "language": "csharp"
    },
    "vscode": {
     "languageId": "dotnet-interactive.csharp"
    }
   },
   "outputs": [
    {
     "data": {
      "text/html": [
       "<span>2021-08-09 10:37:30Z</span>"
      ]
     },
     "metadata": {},
     "output_type": "display_data"
    },
    {
     "data": {
      "text/html": [
       "<span>9999-12-31 23:59:59Z</span>"
      ]
     },
     "metadata": {},
     "output_type": "display_data"
    },
    {
     "data": {
      "text/html": [
       "<span>0001-01-01 00:00:00Z</span>"
      ]
     },
     "metadata": {},
     "output_type": "display_data"
    }
   ],
   "source": [
    "display(DateTime.Now);      // Display the current local time\n",
    "\n",
    "display(DateTime.MaxValue); // Display the maximum date value\n",
    "display(DateTime.MinValue); // Display the maximum date value"
   ]
  },
  {
   "cell_type": "markdown",
   "metadata": {},
   "source": [
    "We can also add durations to our date like days and hours.  The `TimeSpan` type is available to define a time duration that we can interact with."
   ]
  },
  {
   "cell_type": "code",
   "execution_count": null,
   "metadata": {
    "dotnet_interactive": {
     "language": "csharp"
    },
    "vscode": {
     "languageId": "dotnet-interactive.csharp"
    }
   },
   "outputs": [
    {
     "data": {
      "text/html": [
       "<span>2020-08-08 09:15:30Z</span>"
      ]
     },
     "metadata": {},
     "output_type": "display_data"
    },
    {
     "data": {
      "text/html": [
       "<span>03:00:00</span>"
      ]
     },
     "metadata": {},
     "output_type": "display_data"
    },
    {
     "data": {
      "text/html": [
       "<span>2020-08-01 12:15:30Z</span>"
      ]
     },
     "metadata": {},
     "output_type": "display_data"
    }
   ],
   "source": [
    "display(today.AddDays(7)); // Add a week to August 1\n",
    "\n",
    "TimeSpan ThreeHours = TimeSpan.FromHours(3);   // Define a TimeSpan of 3 hours\n",
    "display(ThreeHours);                           // Show 3 hours as a string\n",
    "\n",
    "display(today.Add(ThreeHours));   // Add 3 hours to 'today' and display the result\n"
   ]
  },
  {
   "cell_type": "markdown",
   "metadata": {},
   "source": [
    "### DateTimeKind\n",
    "\n",
    "A `DateTime` type carries a `Kind` property to indicate if it is a `Local` time or a reference to `Utc` time."
   ]
  },
  {
   "cell_type": "code",
   "execution_count": null,
   "metadata": {
    "dotnet_interactive": {
     "language": "csharp"
    },
    "vscode": {
     "languageId": "dotnet-interactive.csharp"
    }
   },
   "outputs": [
    {
     "data": {
      "text/html": [
       "<span>Unspecified</span>"
      ]
     },
     "metadata": {},
     "output_type": "display_data"
    }
   ],
   "source": [
    "var thisDate = new DateTime(2021, 8, 10, 10, 0, 0);\n",
    "display(thisDate.Kind);"
   ]
  },
  {
   "cell_type": "code",
   "execution_count": null,
   "metadata": {
    "dotnet_interactive": {
     "language": "csharp"
    },
    "vscode": {
     "languageId": "dotnet-interactive.csharp"
    }
   },
   "outputs": [
    {
     "data": {
      "text/html": [
       "<span>Unspecified</span>"
      ]
     },
     "metadata": {},
     "output_type": "display_data"
    }
   ],
   "source": [
    "var utcNow = DateTime.UtcNow;\n",
    "display(thisDate.Kind);"
   ]
  },
  {
   "cell_type": "code",
   "execution_count": null,
   "metadata": {
    "dotnet_interactive": {
     "language": "csharp"
    },
    "vscode": {
     "languageId": "dotnet-interactive.csharp"
    }
   },
   "outputs": [
    {
     "data": {
      "text/html": [
       "<span>Utc</span>"
      ]
     },
     "metadata": {},
     "output_type": "display_data"
    },
    {
     "data": {
      "text/html": [
       "<span>2021-08-10 06:30:00Z</span>"
      ]
     },
     "metadata": {},
     "output_type": "display_data"
    },
    {
     "data": {
      "text/html": [
       "<span>2021-08-10 10:30:00Z</span>"
      ]
     },
     "metadata": {},
     "output_type": "display_data"
    }
   ],
   "source": [
    "var utcKindDate = new DateTime(2021, 8, 10, 10, 30, 0, DateTimeKind.Utc);\n",
    "display(utcKindDate.Kind);\n",
    "\n",
    "display(utcKindDate.ToLocalTime());\n",
    "display(utcKindDate.ToUniversalTime());"
   ]
  },
  {
   "cell_type": "markdown",
   "metadata": {},
   "source": [
    "## Tuples\n",
    "\n",
    "A [Tuple](https://docs.microsoft.com/dotnet/csharp/language-reference/builtin-types/value-tuples?WT.mc_id=visualstudio-twitch-jefritz) can be used to group together related data elements in a lightweight structure.\n",
    "\n",
    "Use parenthesis with the value-types to combine:"
   ]
  },
  {
   "cell_type": "code",
   "execution_count": null,
   "metadata": {
    "dotnet_interactive": {
     "language": "csharp"
    },
    "vscode": {
     "languageId": "dotnet-interactive.csharp"
    }
   },
   "outputs": [
    {
     "data": {
      "text/html": [
       "<table><thead><tr><th>Item1</th><th>Item2</th></tr></thead><tbody><tr><td><div class=\"dni-plaintext\">2</div></td><td><div class=\"dni-plaintext\">3</div></td></tr></tbody></table>"
      ]
     },
     "metadata": {},
     "output_type": "display_data"
    }
   ],
   "source": [
    "(int, int) point = (2, 3);\n",
    "display(point);"
   ]
  },
  {
   "cell_type": "markdown",
   "metadata": {
    "dotnet_interactive": {
     "language": "csharp"
    }
   },
   "source": [
    "You can access the items in the Tuple with the Item# properties of the Tuple instance:"
   ]
  },
  {
   "cell_type": "code",
   "execution_count": null,
   "metadata": {
    "dotnet_interactive": {
     "language": "csharp"
    },
    "vscode": {
     "languageId": "dotnet-interactive.csharp"
    }
   },
   "outputs": [
    {
     "data": {
      "text/html": [
       "<div class=\"dni-plaintext\">2</div>"
      ]
     },
     "metadata": {},
     "output_type": "display_data"
    },
    {
     "data": {
      "text/html": [
       "<div class=\"dni-plaintext\">3</div>"
      ]
     },
     "metadata": {},
     "output_type": "display_data"
    }
   ],
   "source": [
    "display(point.Item1);\n",
    "display(point.Item2);"
   ]
  },
  {
   "cell_type": "markdown",
   "metadata": {
    "dotnet_interactive": {
     "language": "csharp"
    }
   },
   "source": [
    "Tuples can have names assigned to the properties as well:"
   ]
  },
  {
   "cell_type": "code",
   "execution_count": null,
   "metadata": {
    "dotnet_interactive": {
     "language": "csharp"
    },
    "vscode": {
     "languageId": "dotnet-interactive.csharp"
    }
   },
   "outputs": [
    {
     "data": {
      "text/html": [
       "<table><thead><tr><th>Item1</th><th>Item2</th></tr></thead><tbody><tr><td><div class=\"dni-plaintext\">39.95233</div></td><td><div class=\"dni-plaintext\">-75.16379</div></td></tr></tbody></table>"
      ]
     },
     "metadata": {},
     "output_type": "display_data"
    },
    {
     "data": {
      "text/html": [
       "<div class=\"dni-plaintext\">39.95233</div>"
      ]
     },
     "metadata": {},
     "output_type": "display_data"
    },
    {
     "data": {
      "text/html": [
       "<div class=\"dni-plaintext\">-75.16379</div>"
      ]
     },
     "metadata": {},
     "output_type": "display_data"
    }
   ],
   "source": [
    "(decimal Latitude, decimal Longitude) Philadelphia = (39.95233m, -75.16379m);\n",
    "display(Philadelphia);\n",
    "\n",
    "display(Philadelphia.Latitude);\n",
    "display(Philadelphia.Longitude);"
   ]
  }
 ],
 "metadata": {
  "kernelspec": {
   "display_name": ".NET (C#)",
   "language": "C#",
   "name": ".net-csharp"
  },
  "language_info": {
   "file_extension": ".cs",
   "mimetype": "text/x-csharp",
   "name": "C#",
   "pygments_lexer": "csharp",
   "version": "8.0"
  }
 },
 "nbformat": 4,
 "nbformat_minor": 4
}
